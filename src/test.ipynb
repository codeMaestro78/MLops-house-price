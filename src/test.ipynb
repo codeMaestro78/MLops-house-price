{
 "cells": [
  {
   "cell_type": "code",
   "execution_count": 9,
   "id": "c779f5c5",
   "metadata": {},
   "outputs": [],
   "source": [
    "import pandas as pd\n",
    "from sklearn.datasets import fetch_california_housing\n",
    "\n",
    "\n",
    "data=fetch_california_housing(as_frame=True)\n",
    "X=data.frame.drop(columns=[\"MedHouseVal\"]) if \"MedHouseVal\" in data.frame.columns else data.data\n",
    "y=data.frame['MedHouseVal'] if \"MedHouseVal\" in data.frame.columns  else data.target"
   ]
  },
  {
   "cell_type": "code",
   "execution_count": 15,
   "id": "224966ed",
   "metadata": {},
   "outputs": [
    {
     "name": "stdout",
     "output_type": "stream",
     "text": [
      "    Age   Salary\n",
      "0  25.0  50000.0\n",
      "1  30.0  60000.0\n",
      "2  30.0  66250.0\n",
      "3  35.0  80000.0\n",
      "4  30.0  75000.0\n",
      "[[-1.34164079 -1.18321596  0.          1.          0.        ]\n",
      " [-0.4472136  -0.50709255  0.          0.          1.        ]\n",
      " [ 0.4472136   0.16903085  0.          1.          0.        ]\n",
      " [ 1.34164079  1.52127766  1.          0.          0.        ]]\n"
     ]
    }
   ],
   "source": [
    "from sklearn.impute import SimpleImputer\n",
    "import numpy as np\n",
    "import pandas as pd\n",
    "\n",
    "data = pd.DataFrame({\n",
    "    \"Age\": [25, np.nan, 30, 35, np.nan],\n",
    "    \"Salary\": [50000, 60000, np.nan, 80000, 75000]\n",
    "})\n",
    "\n",
    "# Replace missing values with the mean of each column\n",
    "imputer = SimpleImputer(strategy=\"mean\")\n",
    "data_imputed = imputer.fit_transform(data)\n",
    "\n",
    "print(pd.DataFrame(data_imputed, columns=data.columns))\n",
    "from sklearn.compose import ColumnTransformer\n",
    "from sklearn.preprocessing import StandardScaler, OneHotEncoder\n",
    "import pandas as pd\n",
    "\n",
    "data = pd.DataFrame({\n",
    "    \"Age\": [25, 30, 35, 40],\n",
    "    \"Salary\": [40000, 50000, 60000, 80000],\n",
    "    \"City\": [\"Delhi\", \"Mumbai\", \"Delhi\", \"Bangalore\"]\n",
    "})\n",
    "\n",
    "preprocessor = ColumnTransformer(\n",
    "    transformers=[\n",
    "        (\"num\", StandardScaler(), [\"Age\", \"Salary\"]),\n",
    "        (\"cat\", OneHotEncoder(sparse_output=False), [\"City\"])  # dense output\n",
    "    ]\n",
    ")\n",
    "\n",
    "transformed = preprocessor.fit_transform(data)\n",
    "print(transformed)\n"
   ]
  },
  {
   "cell_type": "code",
   "execution_count": 13,
   "id": "3e65459a",
   "metadata": {},
   "outputs": [
    {
     "name": "stdout",
     "output_type": "stream",
     "text": [
      "{'predictions': [3.329496249999995]}\n"
     ]
    }
   ],
   "source": [
    "import requests\n",
    "\n",
    "url = \"http://localhost:8000/predict\"\n",
    "data = {\"data\": [[8, 41.0, 6.6, 0.0, 3.4, 6.3, 2.0, 1.0]]}\n",
    "\n",
    "response = requests.post(url, json=data)\n",
    "print(response.json())\n"
   ]
  },
  {
   "cell_type": "code",
   "execution_count": 12,
   "id": "719ffb4f",
   "metadata": {},
   "outputs": [
    {
     "name": "stdout",
     "output_type": "stream",
     "text": [
      "['house-prices-local', 'house-prices-local]']\n"
     ]
    }
   ],
   "source": [
    "import mlflow\n",
    "from mlflow.tracking import MlflowClient\n",
    "\n",
    "mlflow.set_tracking_uri(\"http://localhost:5000\")\n",
    "client = MlflowClient()\n",
    "\n",
    "experiments = list(client.search_experiments())\n",
    "print([e.name for e in experiments])\n"
   ]
  }
 ],
 "metadata": {
  "kernelspec": {
   "display_name": ".venv",
   "language": "python",
   "name": "python3"
  },
  "language_info": {
   "codemirror_mode": {
    "name": "ipython",
    "version": 3
   },
   "file_extension": ".py",
   "mimetype": "text/x-python",
   "name": "python",
   "nbconvert_exporter": "python",
   "pygments_lexer": "ipython3",
   "version": "3.11.9"
  }
 },
 "nbformat": 4,
 "nbformat_minor": 5
}
